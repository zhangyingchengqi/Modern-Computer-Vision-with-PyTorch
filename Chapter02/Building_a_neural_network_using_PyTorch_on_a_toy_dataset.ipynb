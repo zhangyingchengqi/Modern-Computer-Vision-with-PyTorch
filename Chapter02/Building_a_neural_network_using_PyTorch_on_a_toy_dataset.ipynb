{
  "nbformat": 4,
  "nbformat_minor": 0,
  "metadata": {
    "colab": {
      "name": "Building_a_neural_network_using_PyTorch_on_a_toy_dataset.ipynb",
      "provenance": [],
      "gpuType": "T4",
      "include_colab_link": true
    },
    "kernelspec": {
      "display_name": "Python 3",
      "name": "python3"
    },
    "language_info": {
      "codemirror_mode": {
        "name": "ipython",
        "version": 3
      },
      "file_extension": ".py",
      "mimetype": "text/x-python",
      "name": "python",
      "nbconvert_exporter": "python",
      "pygments_lexer": "ipython3",
      "version": "3.7.6"
    },
    "accelerator": "GPU"
  },
  "cells": [
    {
      "cell_type": "markdown",
      "metadata": {
        "id": "view-in-github",
        "colab_type": "text"
      },
      "source": [
        "<a href=\"https://colab.research.google.com/github/zhangyingchengqi/Modern-Computer-Vision-with-PyTorch/blob/master/Chapter02/Building_a_neural_network_using_PyTorch_on_a_toy_dataset.ipynb\" target=\"_parent\"><img src=\"https://colab.research.google.com/assets/colab-badge.svg\" alt=\"Open In Colab\"/></a>"
      ]
    },
    {
      "cell_type": "markdown",
      "source": [
        "# 第二章 第五节 用pytorch构建神经网络\n",
        "\n",
        "## 神经网络的组成:\n",
        "  神经网络 = 输入层 + 隐藏层（线性 + 激活） + 输出层  <br />\n",
        "再配合   损失函数 + 优化器 + 反向传播，形成一个可训练的系统 <br />\n",
        "\n",
        "<hr />\n",
        "\n",
        "\n",
        "1.   输入层\n",
        "  * 作用：接收原始数据（图片像素、文本向量、数值特征等）。\n",
        "  * 特点：\n",
        "      * 不做复杂运算，只负责把数据传给下一层\n",
        "      * 输入的维度 = 特征的数量\n",
        "2. 隐藏层（Hidden Layers）\n",
        "  * 作用：执行大部分的特征变换和模式提取\n",
        "  * 组成\n",
        "    * 线性变换: z = W x + b\n",
        "    * 激活函数:\n",
        "      * 给模型引入非线性，使其能拟合复杂关系。\n",
        "      * 常见的有 ReLU、Sigmoid、Tanh 等。\n",
        "    * 隐藏层中的单元数:  该层中神经元的个数，也可以理解为特征变换的维度大小\n",
        "      1. 单元数量的意义\n",
        "        * 每个单元（Neuron）在数学上可以看作是一个计算节点，接收上一层所有输入，经过加权求和 + 激活函数得到输出。\n",
        "        * 单元数量越多，意味着该层可以学习到更多的特征组合，也能拟合更复杂的模式。\n",
        "        * 但数量太多，会增加参数量和计算量，可能导致过拟合。\n",
        "      2. 怎么选择单元数:\n",
        "        * 任务复杂度高 → 单元多（如图像识别、语言建模）\n",
        "        * 任务简单 → 单元少（如线性回归、低维特征分类）\n",
        "        * 常见初始选择：\n",
        "          * 输入特征数的 1~3 倍\n",
        "          * 或逐层递减（如 128 → 64 → 32）\n",
        "        * 使用验证集调参，避免过拟合\n",
        "3. 输出层\n",
        "  * 作用: 把隐藏层提取的特征映射成最终结果（分类概率、回归数值等）\n",
        "  * 特点:\n",
        "    * 输出节点的数量 = 任务类别数（分类）或 1（回归）\n",
        "    * 激活函数依任务而定:\n",
        "      * 分类 -> softmax\n",
        "      * 二分类 -> Sigmod\n",
        "      * 回归 ->无激活(线性输出)\n",
        "4. 损失函数\n",
        "  * 作用: 衡量模型输出与真实标签的差距，是优化的目标\n",
        "  * 类型:\n",
        "    * 回归任务 → MSE（均方误差）\n",
        "    * 二分类 → Binary Cross-Entropy\n",
        "    * 多分类 → Cross-Entropy Loss\n",
        "5. 优化器\n",
        "  * 作用: 根据损失函数的梯度更新权重，让模型逐步收敛\n",
        "  * 算法:\n",
        "    * SGD\n",
        "    * Adam\n",
        "    * RMSProp\n",
        "6. 梯度与反向传播\n",
        "  * 梯度: 损失函数对每个参数的偏导数，表示“这个参数改变一点点，会让损失怎么变”\n",
        "  * 反向传播: 计算梯度并把它传回每一层，让优化器更新参数\n",
        "\n",
        "\n",
        "\n",
        "\n",
        "\n",
        "\n",
        "\n",
        "\n",
        "\n",
        "\n",
        "\n",
        "\n"
      ],
      "metadata": {
        "id": "Umg3xZUTucBO"
      }
    },
    {
      "cell_type": "code",
      "metadata": {
        "ExecuteTime": {
          "end_time": "2020-09-25T19:37:27.437450Z",
          "start_time": "2020-09-25T19:37:27.143217Z"
        },
        "id": "e1gtGb85daHv"
      },
      "source": [
        "import torch\n",
        "x = [[1,2],[3,4],[5,6],[7,8]]\n",
        "y = [[3],[7],[11],[15]]"
      ],
      "execution_count": 1,
      "outputs": []
    },
    {
      "cell_type": "code",
      "metadata": {
        "ExecuteTime": {
          "end_time": "2020-09-25T19:37:27.440914Z",
          "start_time": "2020-09-25T19:37:27.438557Z"
        },
        "id": "ZaYGlxtQdbd1"
      },
      "source": [
        "X = torch.tensor(x).float()\n",
        "Y = torch.tensor(y).float()"
      ],
      "execution_count": 2,
      "outputs": []
    },
    {
      "cell_type": "code",
      "metadata": {
        "ExecuteTime": {
          "end_time": "2020-09-25T19:37:29.527549Z",
          "start_time": "2020-09-25T19:37:27.442428Z"
        },
        "id": "q5DT95H_dcwi"
      },
      "source": [
        "device = 'cuda' if torch.cuda.is_available() else 'cpu'\n",
        "X = X.to(device)\n",
        "Y = Y.to(device)"
      ],
      "execution_count": 3,
      "outputs": []
    },
    {
      "cell_type": "code",
      "metadata": {
        "ExecuteTime": {
          "end_time": "2020-09-25T19:37:29.530750Z",
          "start_time": "2020-09-25T19:37:29.528696Z"
        },
        "id": "rHq7VwgDdeJ-"
      },
      "source": [
        "import torch.nn as nn # nn模块中包括构建神经网络模型的函数"
      ],
      "execution_count": 4,
      "outputs": []
    },
    {
      "cell_type": "code",
      "metadata": {
        "ExecuteTime": {
          "end_time": "2020-09-25T19:37:29.535567Z",
          "start_time": "2020-09-25T19:37:29.531890Z"
        },
        "id": "clpig_05dfYK"
      },
      "source": [
        "import torch\n",
        "import torch.nn as nn\n",
        "\n",
        "class MyNeuralNet(nn.Module):\n",
        "    def __init__(self):\n",
        "        super().__init__()   # 调用父类的构造函数，确保 nn.Module 的内部机制（参数注册、子模块管理等）被正确初始化。\n",
        "        # 从输入到隐藏层的线性变换（全连接层）\n",
        "        # 输入特征数 = 2, 隐藏单元数 = 8\n",
        "        # 这个模块包含权重矩阵 shape=(2,8)（PyTorch 存储为 (out_features, in_features)）和偏置向量 shape=(8,)\n",
        "        self.input_to_hidden_layer = nn.Linear(2, 8) #  默认使用 Kaiming 均匀初始化（Kaiming Uniform Initialization, He Initialization） 来生成 nn.Linear 的权重，偏置则是均匀分布随机初始化\n",
        "        # 隐藏层的激活函数：ReLU（Rectified Linear Unit）\n",
        "        # ReLU 对每个元素 x 输出 max(0, x)，为网络引入非线性，使网络能拟合复杂函数。\n",
        "        self.hidden_layer_activation = nn.ReLU()   # 指定隐藏层的激活函数\n",
        "        # 隐藏层到输出层的线性变换（全连接层）\n",
        "        # 隐藏单元数 = 8, 输出单元数 = 1\n",
        "        # 该层的权重矩阵 shape=(1,8)，偏置 shape=(1,)\n",
        "        self.hidden_to_output_layer = nn.Linear(8, 1)  # 输出为原始 logits / 回归值\n",
        "    def forward(self, x):\n",
        "        \"\"\"\n",
        "        定义前向传播（inference）逻辑。\n",
        "        约定：x 的形状应为 (batch_size, 2)\n",
        "        返回：out 的形状为 (batch_size, 1)\n",
        "        \"\"\"\n",
        "        # (batch_size, 2) -> (batch_size, 8)\n",
        "        x = self.input_to_hidden_layer(x)\n",
        "        # 应用非线性激活（元素级）\n",
        "        x = self.hidden_layer_activation(x)\n",
        "        # (batch_size, 8) -> (batch_size, 1)\n",
        "        x = self.hidden_to_output_layer(x)\n",
        "        # 这里返回的通常是“logits”或回归输出；是否再接激活（如 Sigmoid）取决于任务\n",
        "        return x\n",
        "\n",
        "\n",
        "#另外一种使用nn.Parameter函数定义神经网络模型\n",
        "# class MyNeuralNet( nn.Module):\n",
        "#   def __init__( self ):\n",
        "#     super().__init__()\n",
        "#     self.input_to_hidden_layer=nn.Parameter(  torch.rand(2,8) )\n",
        "#     self.hidden_layer_activation=nn.ReLU()\n",
        "#     self.hidden_to_output_layer=nn.Parameter(  torch.rand(8,1) )\n",
        "\n",
        "#   def forward( self,x ):\n",
        "#     x=x@self.input_to_hidden_layer\n",
        "#     x=self.hidden_layer_activation(x)\n",
        "#     x=x@self.hidden_to_output_layer\n",
        "#     return x"
      ],
      "execution_count": 5,
      "outputs": []
    },
    {
      "cell_type": "code",
      "source": [
        "# 总参数量计算（示例）\n",
        "# 第一层：2 -> 8 ：16（权重） + 8（偏置） = 24\n",
        "# 第二层：8 -> 1 ：8 + 1 = 9\n",
        "# 总计：33 个可学习参数\n",
        "model = MyNeuralNet()\n",
        "sum( p.numel() for p in model.parameters() if p.requires_grad)  # 输出 33"
      ],
      "metadata": {
        "id": "YyJtgCcP0_qO",
        "outputId": "fd7e8fb0-2f70-4a69-a73f-f7fdbe884736",
        "colab": {
          "base_uri": "https://localhost:8080/"
        }
      },
      "execution_count": 6,
      "outputs": [
        {
          "output_type": "execute_result",
          "data": {
            "text/plain": [
              "33"
            ]
          },
          "metadata": {},
          "execution_count": 6
        }
      ]
    },
    {
      "cell_type": "code",
      "source": [
        "# 输入 / 输出形状\n",
        "model = MyNeuralNet()\n",
        "x = torch.randn(4, 2)    # batch_size=4\n",
        "print(\"输入:\", x)\n",
        "out = model(x)           # out.shape -> (4, 1)\n",
        "print(\"输出:\",out)\n",
        "# 以上代码用于体会输入与输出数据的关系"
      ],
      "metadata": {
        "id": "EZGhNSvs1Oni",
        "outputId": "bdf672fd-14f7-4617-9f12-011d51687bda",
        "colab": {
          "base_uri": "https://localhost:8080/"
        }
      },
      "execution_count": 7,
      "outputs": [
        {
          "output_type": "stream",
          "name": "stdout",
          "text": [
            "输入: tensor([[ 0.6742, -1.1191],\n",
            "        [-0.8387,  0.2271],\n",
            "        [ 0.2298,  1.4664],\n",
            "        [-0.0440, -0.7924]])\n",
            "输出: tensor([[-0.1247],\n",
            "        [-0.3932],\n",
            "        [-0.5605],\n",
            "        [-0.1369]], grad_fn=<AddmmBackward0>)\n"
          ]
        }
      ]
    },
    {
      "cell_type": "markdown",
      "source": [
        "## 下面将使用标准训练循环基于pytorch完成训练\n",
        "\n",
        "标准训练循环过程:\n",
        "1. optimizer.zero_grad()（清除上次梯度）\n",
        "2. out = model(x)（前向）\n",
        "3. loss = criterion(out, target)\n",
        "4. loss.backward()（计算梯度）\n",
        "5. optimizer.step()（更新参数）"
      ],
      "metadata": {
        "id": "OPxcgHpS2CzH"
      }
    },
    {
      "cell_type": "code",
      "metadata": {
        "ExecuteTime": {
          "end_time": "2020-09-25T19:37:29.540168Z",
          "start_time": "2020-09-25T19:37:29.536723Z"
        },
        "id": "McmLsQstdnxr",
        "outputId": "fc2d1e36-452e-4b8a-e339-2dd663d035d6",
        "colab": {
          "base_uri": "https://localhost:8080/"
        }
      },
      "source": [
        "mynet = MyNeuralNet().to(device)\n",
        "print( \"每一层的权重 :\",mynet.input_to_hidden_layer.weight)\n",
        "print( \"每一层的偏置 :\",mynet.input_to_hidden_layer.bias)\n",
        "print( \"输出层的权重:\", mynet.hidden_to_output_layer.weight)\n",
        "print( \"输出层的偏置:\", mynet.hidden_to_output_layer.bias )\n",
        "print(\"神经网络所有的参数:\", list( mynet.parameters() ) )"
      ],
      "execution_count": 8,
      "outputs": [
        {
          "output_type": "stream",
          "name": "stdout",
          "text": [
            "每一层的权重 : Parameter containing:\n",
            "tensor([[ 0.0366, -0.3790],\n",
            "        [-0.6228,  0.0106],\n",
            "        [ 0.5390, -0.2551],\n",
            "        [ 0.7063,  0.4921],\n",
            "        [-0.3300,  0.1168],\n",
            "        [ 0.3509, -0.2333],\n",
            "        [ 0.0163,  0.6845],\n",
            "        [-0.3035, -0.1799]], device='cuda:0', requires_grad=True)\n",
            "每一层的偏置 : Parameter containing:\n",
            "tensor([ 0.4502, -0.5981,  0.3658,  0.4050,  0.4422, -0.6693, -0.3296,  0.2118],\n",
            "       device='cuda:0', requires_grad=True)\n",
            "输出层的权重: Parameter containing:\n",
            "tensor([[-0.3302,  0.2144, -0.1389, -0.2016, -0.1385,  0.2089,  0.3125, -0.3027]],\n",
            "       device='cuda:0', requires_grad=True)\n",
            "输出层的偏置: Parameter containing:\n",
            "tensor([0.2121], device='cuda:0', requires_grad=True)\n",
            "神经网络所有的参数: [Parameter containing:\n",
            "tensor([[ 0.0366, -0.3790],\n",
            "        [-0.6228,  0.0106],\n",
            "        [ 0.5390, -0.2551],\n",
            "        [ 0.7063,  0.4921],\n",
            "        [-0.3300,  0.1168],\n",
            "        [ 0.3509, -0.2333],\n",
            "        [ 0.0163,  0.6845],\n",
            "        [-0.3035, -0.1799]], device='cuda:0', requires_grad=True), Parameter containing:\n",
            "tensor([ 0.4502, -0.5981,  0.3658,  0.4050,  0.4422, -0.6693, -0.3296,  0.2118],\n",
            "       device='cuda:0', requires_grad=True), Parameter containing:\n",
            "tensor([[-0.3302,  0.2144, -0.1389, -0.2016, -0.1385,  0.2089,  0.3125, -0.3027]],\n",
            "       device='cuda:0', requires_grad=True), Parameter containing:\n",
            "tensor([0.2121], device='cuda:0', requires_grad=True)]\n"
          ]
        }
      ]
    },
    {
      "cell_type": "code",
      "metadata": {
        "ExecuteTime": {
          "end_time": "2020-09-25T19:37:29.544857Z",
          "start_time": "2020-09-25T19:37:29.541272Z"
        },
        "id": "8cyG-B-AdoBB"
      },
      "source": [
        "loss_func = nn.MSELoss() #定义损失函数"
      ],
      "execution_count": 9,
      "outputs": []
    },
    {
      "cell_type": "code",
      "metadata": {
        "ExecuteTime": {
          "end_time": "2020-09-25T19:37:29.554504Z",
          "start_time": "2020-09-25T19:37:29.546221Z"
        },
        "id": "QRTf8vdKdqmP",
        "outputId": "30cd9442-fdc5-44ef-ec4f-3edc7803eff5",
        "colab": {
          "base_uri": "https://localhost:8080/"
        }
      },
      "source": [
        "_Y = mynet(X)\n",
        "loss_value = loss_func(_Y,Y)\n",
        "print(loss_value)"
      ],
      "execution_count": 10,
      "outputs": [
        {
          "output_type": "stream",
          "name": "stdout",
          "text": [
            "tensor(104.5324, device='cuda:0', grad_fn=<MseLossBackward0>)\n"
          ]
        }
      ]
    },
    {
      "cell_type": "code",
      "metadata": {
        "ExecuteTime": {
          "end_time": "2020-09-25T19:37:29.558932Z",
          "start_time": "2020-09-25T19:37:29.555392Z"
        },
        "id": "dTOdsvFydsQK"
      },
      "source": [
        "from torch.optim import SGD #定义优化器\n",
        "opt = SGD(mynet.parameters(), lr = 0.001) #优化的目标是 mynet的各个参数, 学习率为 0.001"
      ],
      "execution_count": 11,
      "outputs": []
    },
    {
      "cell_type": "code",
      "metadata": {
        "ExecuteTime": {
          "end_time": "2020-09-25T19:37:29.588488Z",
          "start_time": "2020-09-25T19:37:29.560089Z"
        },
        "id": "xyHCZwfYduGO"
      },
      "source": [
        "loss_history = []\n",
        "for _ in range(50):\n",
        "    opt.zero_grad() # flush the previous epoch's gradients\n",
        "    loss_value = loss_func(mynet(X),Y)  # compute loss\n",
        "    loss_value.backward()     # perform backward\n",
        "    opt.step()            #update the weights according to the gradients computed\n",
        "    loss_history.append(loss_value.item())"
      ],
      "execution_count": 12,
      "outputs": []
    },
    {
      "cell_type": "code",
      "metadata": {
        "ExecuteTime": {
          "end_time": "2020-09-25T19:37:29.838987Z",
          "start_time": "2020-09-25T19:37:29.589467Z"
        },
        "id": "DiO6I53udwvY",
        "outputId": "c69ff1c8-96bc-4d08-ee31-552e275f4cfa",
        "colab": {
          "base_uri": "https://localhost:8080/",
          "height": 489
        }
      },
      "source": [
        "import matplotlib.pyplot as plt\n",
        "%matplotlib inline\n",
        "plt.plot(loss_history)\n",
        "plt.title('Loss variation over increasing epochs')\n",
        "plt.xlabel('epochs')\n",
        "plt.ylabel('loss value')\n",
        "#总体损失值随着轮数的增加而减少的方式更新权重"
      ],
      "execution_count": 14,
      "outputs": [
        {
          "output_type": "execute_result",
          "data": {
            "text/plain": [
              "Text(0, 0.5, 'loss value')"
            ]
          },
          "metadata": {},
          "execution_count": 14
        },
        {
          "output_type": "display_data",
          "data": {
            "text/plain": [
              "<Figure size 640x480 with 1 Axes>"
            ],
            "image/png": "[encoded data removed]"
          },
          "metadata": {}
        }
      ]
    },
    {
      "cell_type": "code",
      "metadata": {
        "id": "jmfHZmKXdyND"
      },
      "source": [],
      "execution_count": null,
      "outputs": []
    }
  ]
}