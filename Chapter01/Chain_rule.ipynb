{
  "nbformat": 4,
  "nbformat_minor": 0,
  "metadata": {
    "colab": {
      "name": "Chain_rule.ipynb",
      "provenance": [],
      "include_colab_link": true
    },
    "kernelspec": {
      "display_name": "Python 3",
      "language": "python",
      "name": "python3"
    },
    "language_info": {
      "codemirror_mode": {
        "name": "ipython",
        "version": 3
      },
      "file_extension": ".py",
      "mimetype": "text/x-python",
      "name": "python",
      "nbconvert_exporter": "python",
      "pygments_lexer": "ipython3",
      "version": "3.7.6"
    }
  },
  "cells": [
    {
      "cell_type": "markdown",
      "metadata": {
        "id": "view-in-github",
        "colab_type": "text"
      },
      "source": [
        "<a href=\"https://colab.research.google.com/github/zhangyingchengqi/Modern-Computer-Vision-with-PyTorch/blob/master/Chapter01/Chain_rule.ipynb\" target=\"_parent\"><img src=\"https://colab.research.google.com/assets/colab-badge.svg\" alt=\"Open In Colab\"/></a>"
      ]
    },
    {
      "cell_type": "markdown",
      "source": [
        "### 方案一 基于损失值变化更新权重"
      ],
      "metadata": {
        "id": "FT-z_NoU4HIX"
      }
    },
    {
      "cell_type": "code",
      "metadata": {
        "ExecuteTime": {
          "end_time": "2020-09-24T13:23:27.984719Z",
          "start_time": "2020-09-24T13:23:27.929962Z"
        },
        "id": "i5WpgCBbm_Jc"
      },
      "source": [
        "\n",
        "from copy import deepcopy\n",
        "import numpy as np\n",
        "def line():\n",
        "    print('='*80)\n",
        "#前向传播\n",
        "def feed_forward(inputs, outputs, weights):\n",
        "    pre_hidden = np.dot(inputs,weights[0])+ weights[1]\n",
        "    hidden = 1/(1+np.exp(-pre_hidden))\n",
        "    out = np.dot(hidden, weights[2]) + weights[3]\n",
        "    mean_squared_error = np.mean(np.square(out - outputs))\n",
        "    return mean_squared_error"
      ],
      "execution_count": 1,
      "outputs": []
    },
    {
      "cell_type": "code",
      "metadata": {
        "ExecuteTime": {
          "end_time": "2020-09-24T13:23:27.989715Z",
          "start_time": "2020-09-24T13:23:27.985804Z"
        },
        "id": "YKQpTWlSnCwc"
      },
      "source": [
        "def update_weights(inputs, outputs, weights, lr):\n",
        "    original_weights = deepcopy(weights)\n",
        "    temp_weights = deepcopy(weights)\n",
        "    updated_weights = deepcopy(weights)\n",
        "    original_loss = feed_forward(inputs, outputs, original_weights)\n",
        "    for i, layer in enumerate(original_weights):\n",
        "        for index, weight in np.ndenumerate(layer):\n",
        "            temp_weights = deepcopy(weights)\n",
        "            temp_weights[i][index] += 0.0001\n",
        "            _loss_plus = feed_forward(inputs, outputs, temp_weights)\n",
        "            grad = (_loss_plus - original_loss)/(0.0001)\n",
        "            updated_weights[i][index] -= grad*lr\n",
        "    return updated_weights"
      ],
      "execution_count": 2,
      "outputs": []
    },
    {
      "cell_type": "code",
      "metadata": {
        "ExecuteTime": {
          "end_time": "2020-09-24T13:23:28.000882Z",
          "start_time": "2020-09-24T13:23:27.991191Z"
        },
        "id": "Vp9I03hRnh2G",
        "colab": {
          "base_uri": "https://localhost:8080/"
        },
        "outputId": "364f3c9b-0791-4208-854b-fb866e4d9719"
      },
      "source": [
        "x = np.array([[1,1]]); y = np.array([[0]])\n",
        "W = [\n",
        "    np.array([[-0.0053, 0.3793],\n",
        "              [-0.5820, -0.5204],\n",
        "              [-0.2723, 0.1896]], dtype=np.float32).T,\n",
        "    np.array([-0.0140, 0.5607, -0.0628], dtype=np.float32),\n",
        "    np.array([[ 0.1528, -0.1745, -0.1135]], dtype=np.float32).T,\n",
        "    np.array([-0.5516], dtype=np.float32)\n",
        "]\n",
        "line()\n",
        "print('Loss:'.upper())\n",
        "print(feed_forward(x,y,W))\n",
        "line()\n",
        "print('Weights:'.upper())\n",
        "[print(w) for w in W]\n",
        "line()\n",
        "print('Updated Weights:'.upper())\n",
        "for epx in range(1):\n",
        "    updated_weights = update_weights(x,y,W,1)\n",
        "[print(w) for w in updated_weights];"
      ],
      "execution_count": 3,
      "outputs": [
        {
          "output_type": "stream",
          "name": "stdout",
          "text": [
            "================================================================================\n",
            "LOSS:\n",
            "0.33455008989960927\n",
            "================================================================================\n",
            "WEIGHTS:\n",
            "[[-0.0053 -0.582  -0.2723]\n",
            " [ 0.3793 -0.5204  0.1896]]\n",
            "[-0.014   0.5607 -0.0628]\n",
            "[[ 0.1528]\n",
            " [-0.1745]\n",
            " [-0.1135]]\n",
            "[-0.5516]\n",
            "================================================================================\n",
            "UPDATED WEIGHTS:\n",
            "[[ 0.03748801 -0.62894595 -0.30494714]\n",
            " [ 0.42208242 -0.5673459   0.156948  ]]\n",
            "[ 0.02878801  0.51375407 -0.09545201]\n",
            "[[0.8341824 ]\n",
            " [0.25095794]\n",
            " [0.4228859 ]]\n",
            "[0.60529804]\n"
          ]
        }
      ]
    },
    {
      "cell_type": "markdown",
      "metadata": {
        "id": "3llIoQD7xMJf"
      },
      "source": [
        "### Chain Rule 方案二:  使用链式法则实现反向传播 以更新权重\n",
        "Calculate the updated weight value using Chain rule"
      ]
    },
    {
      "cell_type": "code",
      "metadata": {
        "ExecuteTime": {
          "end_time": "2020-09-24T13:23:28.004119Z",
          "start_time": "2020-09-24T13:23:28.001851Z"
        },
        "id": "fSSV-hAcufCd"
      },
      "source": [
        "# 1. 前向传播阶段（预测值）\n",
        "pre_hidden = np.dot(x,W[0])+ W[1]\n",
        "hidden = 1/(1+np.exp(-pre_hidden))\n",
        "predicted_value = np.dot(hidden, W[2]) + W[3]"
      ],
      "execution_count": 4,
      "outputs": []
    },
    {
      "cell_type": "markdown",
      "source": [
        "给定的网络结构为:\n",
        "![7.png](data:image/png;base64,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)"
      ],
      "metadata": {
        "id": "fuFDWR6K6UjH"
      }
    },
    {
      "cell_type": "markdown",
      "source": [
        "对各参数求导后，沿负梯度方向更新参数\n"
      ],
      "metadata": {
        "id": "DP9sAIT96l0t"
      }
    },
    {
      "cell_type": "code",
      "metadata": {
        "ExecuteTime": {
          "end_time": "2020-09-24T13:23:28.008250Z",
          "start_time": "2020-09-24T13:23:28.004921Z"
        },
        "id": "juDL0c_fwp0c",
        "colab": {
          "base_uri": "https://localhost:8080/"
        },
        "outputId": "b7bacc95-4871-4457-e3e2-5153bb679a48"
      },
      "source": [
        "# ⬇️ 第一层权重 W[0][0][0]，即 w11: 输入 x1 → 隐藏层第一个神经元 h1 的权重\n",
        "# 梯度：∂C/∂w11 = ∂C/∂ŷ · ∂ŷ/∂h1 · ∂h1/∂z1 · ∂z1/∂w11\n",
        "tmp = W[0][0][0] - (-2*(0-(predicted_value[0][0]))*(W[2][0][0])*hidden[0,0]*(1-hidden[0,0])*x[0][0])\n",
        "print(tmp, updated_weights[0][0][0])"
      ],
      "execution_count": 5,
      "outputs": [
        {
          "output_type": "stream",
          "name": "stdout",
          "text": [
            "0.03748860333147175 0.037488014\n"
          ]
        }
      ]
    },
    {
      "cell_type": "code",
      "metadata": {
        "ExecuteTime": {
          "end_time": "2020-09-24T13:23:28.012629Z",
          "start_time": "2020-09-24T13:23:28.009257Z"
        },
        "id": "bIzE0_CD4ePv",
        "colab": {
          "base_uri": "https://localhost:8080/",
          "height": 34
        },
        "outputId": "8f64a525-9fc3-4e69-efa6-29538785a885"
      },
      "source": [
        "tmp = W[0][0][1] - (-2*(0-(predicted_value[0][0]))*(W[2][1][0])*hidden[0,1]*(1-hidden[0,1])*x[0][0])\n",
        "print(tmp, updated_weights[0][0][1])"
      ],
      "execution_count": null,
      "outputs": [
        {
          "output_type": "stream",
          "text": [
            "-0.6289373468565382 -0.62894595\n"
          ],
          "name": "stdout"
        }
      ]
    },
    {
      "cell_type": "code",
      "metadata": {
        "ExecuteTime": {
          "end_time": "2020-09-24T13:23:28.016777Z",
          "start_time": "2020-09-24T13:23:28.013578Z"
        },
        "id": "eBYFpMD58Zg4",
        "colab": {
          "base_uri": "https://localhost:8080/",
          "height": 34
        },
        "outputId": "8182e49a-3300-49f1-edf2-5e29d69946e9"
      },
      "source": [
        "tmp = W[0][0][2] - (-2*(0-(predicted_value[0][0]))*(W[2][2][0])*hidden[0,2]*(1-hidden[0,2])*x[0][0])\n",
        "print(tmp, updated_weights[0][0][0])"
      ],
      "execution_count": null,
      "outputs": [
        {
          "output_type": "stream",
          "text": [
            "-0.304951263947996 0.037488014\n"
          ],
          "name": "stdout"
        }
      ]
    },
    {
      "cell_type": "code",
      "metadata": {
        "ExecuteTime": {
          "end_time": "2020-09-24T13:23:28.021124Z",
          "start_time": "2020-09-24T13:23:28.018197Z"
        },
        "id": "e5bsJzF88ZrM",
        "colab": {
          "base_uri": "https://localhost:8080/",
          "height": 34
        },
        "outputId": "021e7318-fc42-49f9-89d2-5565d362498f"
      },
      "source": [
        "tmp = W[0][1][0] - (-2*(0-(predicted_value[0][0]))*(W[2][0][0])*hidden[0,0]*(1-hidden[0,0])*x[0][1])\n",
        "print(tmp, updated_weights[0][1][0])"
      ],
      "execution_count": null,
      "outputs": [
        {
          "output_type": "stream",
          "text": [
            "0.42208860145914084 0.42208242\n"
          ],
          "name": "stdout"
        }
      ]
    },
    {
      "cell_type": "code",
      "metadata": {
        "ExecuteTime": {
          "end_time": "2020-09-24T13:23:28.025464Z",
          "start_time": "2020-09-24T13:23:28.022264Z"
        },
        "id": "coHgQaMI9R3N",
        "colab": {
          "base_uri": "https://localhost:8080/",
          "height": 34
        },
        "outputId": "021e7318-fc42-49f9-89d2-5565d362498f"
      },
      "source": [
        "tmp = W[0][1][1] - (-2*(0-(predicted_value[0][0]))*(W[2][1][0])*hidden[0,1]*(1-hidden[0,1])*x[0][1])\n",
        "print(tmp, updated_weights[0][1][1])"
      ],
      "execution_count": null,
      "outputs": [
        {
          "output_type": "stream",
          "text": [
            "-0.5673373173880019 -0.5673459\n"
          ],
          "name": "stdout"
        }
      ]
    },
    {
      "cell_type": "code",
      "metadata": {
        "ExecuteTime": {
          "end_time": "2020-09-24T13:23:28.030294Z",
          "start_time": "2020-09-24T13:23:28.026871Z"
        },
        "id": "XEbiE6xc9R3P",
        "colab": {
          "base_uri": "https://localhost:8080/",
          "height": 34
        },
        "outputId": "021e7318-fc42-49f9-89d2-5565d362498f"
      },
      "source": [
        "tmp = W[0][1][2] - (-2*(0-(predicted_value[0][0]))*(W[2][2][0])*hidden[0,2]*(1-hidden[0,2])*x[0][1])\n",
        "print(tmp, updated_weights[0][1][2])"
      ],
      "execution_count": null,
      "outputs": [
        {
          "output_type": "stream",
          "text": [
            "0.15694874675699821 0.156948\n"
          ],
          "name": "stdout"
        }
      ]
    },
    {
      "cell_type": "markdown",
      "source": [
        "### 第一层偏置（b0）：对 h1/h2/h3 的偏置"
      ],
      "metadata": {
        "id": "u3XnhAU37RSe"
      }
    },
    {
      "cell_type": "code",
      "metadata": {
        "ExecuteTime": {
          "end_time": "2020-09-24T13:23:28.035074Z",
          "start_time": "2020-09-24T13:23:28.031407Z"
        },
        "id": "sD1NsccW9R3R",
        "colab": {
          "base_uri": "https://localhost:8080/",
          "height": 34
        },
        "outputId": "021e7318-fc42-49f9-89d2-5565d362498f"
      },
      "source": [
        "#  b1（第一个隐藏神经元的偏置）\n",
        "tmp = W[1][0] - (-2*(0-(predicted_value[0][0]))*hidden[0,0]*(1-hidden[0,0])*W[2][0][0])\n",
        "print(tmp, updated_weights[1][0])"
      ],
      "execution_count": null,
      "outputs": [
        {
          "output_type": "stream",
          "text": [
            "0.028788602743620932 0.028788012\n"
          ],
          "name": "stdout"
        }
      ]
    },
    {
      "cell_type": "code",
      "metadata": {
        "ExecuteTime": {
          "end_time": "2020-09-24T13:23:28.038822Z",
          "start_time": "2020-09-24T13:23:28.036075Z"
        },
        "id": "90aX0GVu9R3U",
        "colab": {
          "base_uri": "https://localhost:8080/",
          "height": 34
        },
        "outputId": "021e7318-fc42-49f9-89d2-5565d362498f"
      },
      "source": [
        "tmp = W[1][1] - (-2*(0-(predicted_value[0][0]))*hidden[0,1]*(1-hidden[0,1])*W[2][1][0])\n",
        "print(tmp, updated_weights[1][1])"
      ],
      "execution_count": null,
      "outputs": [
        {
          "output_type": "stream",
          "text": [
            "0.5137626696420274 0.51375407\n"
          ],
          "name": "stdout"
        }
      ]
    },
    {
      "cell_type": "code",
      "metadata": {
        "ExecuteTime": {
          "end_time": "2020-09-24T13:23:28.042770Z",
          "start_time": "2020-09-24T13:23:28.039723Z"
        },
        "id": "vP3P_DvO9R3W",
        "colab": {
          "base_uri": "https://localhost:8080/",
          "height": 34
        },
        "outputId": "021e7318-fc42-49f9-89d2-5565d362498f"
      },
      "source": [
        "tmp = W[1][2] - (-2*(0-(predicted_value[0][0]))*hidden[0,2]*(1-hidden[0,2])*W[2][2][0])\n",
        "print(tmp, updated_weights[1][2])"
      ],
      "execution_count": null,
      "outputs": [
        {
          "output_type": "stream",
          "text": [
            "-0.0954512566166247 -0.09545201\n"
          ],
          "name": "stdout"
        }
      ]
    },
    {
      "cell_type": "markdown",
      "source": [
        "### 第二层权重（W1）：从隐藏层 → 输出层"
      ],
      "metadata": {
        "id": "ivpsmlhl7i-X"
      }
    },
    {
      "cell_type": "code",
      "metadata": {
        "ExecuteTime": {
          "end_time": "2020-09-24T13:23:28.046332Z",
          "start_time": "2020-09-24T13:23:28.043797Z"
        },
        "id": "D0tTvkLV9R3Z",
        "colab": {
          "base_uri": "https://localhost:8080/",
          "height": 34
        },
        "outputId": "021e7318-fc42-49f9-89d2-5565d362498f"
      },
      "source": [
        "# h1 → ŷ 的权重\n",
        "tmp = W[2][0][0]-(-2*(0-(predicted_value[0][0]))*hidden[0][0])\n",
        "print(tmp, updated_weights[2][0][0])"
      ],
      "execution_count": null,
      "outputs": [
        {
          "output_type": "stream",
          "text": [
            "0.8342055621416937 0.8341824\n"
          ],
          "name": "stdout"
        }
      ]
    },
    {
      "cell_type": "code",
      "metadata": {
        "ExecuteTime": {
          "end_time": "2020-09-24T13:23:28.050423Z",
          "start_time": "2020-09-24T13:23:28.047373Z"
        },
        "id": "eJkFiIgG9R3b",
        "colab": {
          "base_uri": "https://localhost:8080/",
          "height": 34
        },
        "outputId": "021e7318-fc42-49f9-89d2-5565d362498f"
      },
      "source": [
        "tmp = W[2][1][0]-(-2*(0-(predicted_value[0][0]))*hidden[0][1])\n",
        "print(tmp, updated_weights[2][1][0])"
      ],
      "execution_count": null,
      "outputs": [
        {
          "output_type": "stream",
          "text": [
            "0.2509642654210383 0.25095794\n"
          ],
          "name": "stdout"
        }
      ]
    },
    {
      "cell_type": "code",
      "metadata": {
        "ExecuteTime": {
          "end_time": "2020-09-24T13:23:28.053986Z",
          "start_time": "2020-09-24T13:23:28.051400Z"
        },
        "id": "YQ6B8fA-9R3d",
        "colab": {
          "base_uri": "https://localhost:8080/",
          "height": 34
        },
        "outputId": "021e7318-fc42-49f9-89d2-5565d362498f"
      },
      "source": [
        "tmp = W[2][2][0]-(-2*(0-(predicted_value[0][0]))*hidden[0][2])\n",
        "print(tmp, updated_weights[2][2][0])"
      ],
      "execution_count": null,
      "outputs": [
        {
          "output_type": "stream",
          "text": [
            "0.422898309408289 0.4228859\n"
          ],
          "name": "stdout"
        }
      ]
    },
    {
      "cell_type": "markdown",
      "source": [
        "### 第二层偏置（b1）：输出层偏置"
      ],
      "metadata": {
        "id": "q_dZqcce7wYQ"
      }
    },
    {
      "cell_type": "code",
      "metadata": {
        "ExecuteTime": {
          "end_time": "2020-09-24T13:23:28.057470Z",
          "start_time": "2020-09-24T13:23:28.054896Z"
        },
        "id": "DYInbxAt9R3g",
        "colab": {
          "base_uri": "https://localhost:8080/",
          "height": 34
        },
        "outputId": "021e7318-fc42-49f9-89d2-5565d362498f"
      },
      "source": [
        "tmp = W[3][0]-(-2*(0-(predicted_value[0][0])))\n",
        "print(tmp, updated_weights[3][0])"
      ],
      "execution_count": null,
      "outputs": [
        {
          "output_type": "stream",
          "text": [
            "0.6052061234525776 0.60529804\n"
          ],
          "name": "stdout"
        }
      ]
    },
    {
      "cell_type": "markdown",
      "source": [
        "总结图解链条（以 w11 为例）\n",
        "\n",
        "$\\frac{\\partial \\mathcal{L}}{\\partial w_{11}} =\n",
        "\\underbrace{\\frac{\\partial \\mathcal{L}}{\\partial \\hat{y}}}_{\\text{输出误差}}\n",
        "\\cdot\n",
        "\\underbrace{\\frac{\\partial \\hat{y}}{\\partial h_1}}_{\\text{输出层权重}}\n",
        "\\cdot\n",
        "\\underbrace{\\frac{\\partial h_1}{\\partial z_1}}_{\\text{sigmoid 导数}}\n",
        "\\cdot\n",
        "\\underbrace{\\frac{\\partial z_1}{\\partial w_{11}}}_{x_1}$\n",
        "\n",
        "每条链都遵循这个路径：损失→输出→激活→权重"
      ],
      "metadata": {
        "id": "h9pU8zU8713X"
      }
    },
    {
      "cell_type": "code",
      "metadata": {
        "id": "7LtMWS6c3nBP"
      },
      "source": [],
      "execution_count": null,
      "outputs": []
    }
  ]
}