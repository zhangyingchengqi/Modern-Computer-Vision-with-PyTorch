{
  "nbformat": 4,
  "nbformat_minor": 0,
  "metadata": {
    "colab": {
      "name": "Auto_gradient_of_tensors.ipynb",
      "provenance": [],
      "include_colab_link": true
    },
    "kernelspec": {
      "display_name": "Python 3",
      "language": "python",
      "name": "python3"
    },
    "language_info": {
      "codemirror_mode": {
        "name": "ipython",
        "version": 3
      },
      "file_extension": ".py",
      "mimetype": "text/x-python",
      "name": "python",
      "nbconvert_exporter": "python",
      "pygments_lexer": "ipython3",
      "version": "3.7.6"
    }
  },
  "cells": [
    {
      "cell_type": "markdown",
      "metadata": {
        "id": "view-in-github",
        "colab_type": "text"
      },
      "source": [
        "<a href=\"https://colab.research.google.com/github/zhangyingchengqi/Modern-Computer-Vision-with-PyTorch/blob/master/Chapter02/Auto_gradient_of_tensors.ipynb\" target=\"_parent\"><img src=\"https://colab.research.google.com/assets/colab-badge.svg\" alt=\"Open In Colab\"/></a>"
      ]
    },
    {
      "cell_type": "markdown",
      "source": [
        "## 第二章 第三节  张量的自动梯度运算"
      ],
      "metadata": {
        "id": "1aHoP7mHlCIX"
      }
    },
    {
      "cell_type": "code",
      "metadata": {
        "ExecuteTime": {
          "end_time": "2020-09-25T19:08:10.067717Z",
          "start_time": "2020-09-25T19:08:09.790849Z"
        },
        "id": "2F97TkDgceZl",
        "outputId": "bf930544-865e-43c5-cb68-88de0bfcbb82",
        "colab": {
          "base_uri": "https://localhost:8080/"
        }
      },
      "source": [
        "import numpy as np\n",
        "import torch\n",
        "x = torch.tensor([[2., -1.], [1., 1.]], requires_grad=True) #   requires_grad=True指定为张量对象计算梯度\n",
        "print(x)"
      ],
      "execution_count": 16,
      "outputs": [
        {
          "output_type": "stream",
          "name": "stdout",
          "text": [
            "tensor([[ 2., -1.],\n",
            "        [ 1.,  1.]], requires_grad=True)\n"
          ]
        }
      ]
    },
    {
      "cell_type": "code",
      "metadata": {
        "ExecuteTime": {
          "end_time": "2020-09-25T19:08:10.073796Z",
          "start_time": "2020-09-25T19:08:10.068777Z"
        },
        "id": "oRar4LIhcft7",
        "outputId": "5d00a23f-5f2d-4463-f4f7-00b8be5f5f11",
        "colab": {
          "base_uri": "https://localhost:8080/"
        }
      },
      "source": [
        "out = x.pow(2).sum() #计算所有输入的平方和,  这个函数的梯度就是 2x\n",
        "out"
      ],
      "execution_count": 17,
      "outputs": [
        {
          "output_type": "execute_result",
          "data": {
            "text/plain": [
              "tensor(7., grad_fn=<SumBackward0>)"
            ]
          },
          "metadata": {},
          "execution_count": 17
        }
      ]
    },
    {
      "cell_type": "code",
      "metadata": {
        "ExecuteTime": {
          "end_time": "2020-09-25T19:08:10.453263Z",
          "start_time": "2020-09-25T19:08:10.409991Z"
        },
        "id": "hZsXXwYOchAQ"
      },
      "source": [
        "out.backward() # 对输出的每个值调用backward()来计算 该值的梯度。 即对于输入的x的一个小变化，输出y的变化."
      ],
      "execution_count": 18,
      "outputs": []
    },
    {
      "cell_type": "code",
      "metadata": {
        "ExecuteTime": {
          "end_time": "2020-09-25T19:08:10.719800Z",
          "start_time": "2020-09-25T19:08:10.708500Z"
        },
        "id": "3awLkXAIciTB",
        "outputId": "dcf3d41e-82dc-461a-b776-c4c6514c0e43",
        "colab": {
          "base_uri": "https://localhost:8080/"
        }
      },
      "source": [
        "x.grad  # 现在可以得到out关于x的梯度了\n",
        "# 参数的梯度值越大，说明这个参数对输出的影响越强，优化时就会被调整得更多。\n",
        "#如果梯度为 0（梯度消失），参数几乎无法被更新"
      ],
      "execution_count": 19,
      "outputs": [
        {
          "output_type": "execute_result",
          "data": {
            "text/plain": [
              "tensor([[ 4., -2.],\n",
              "        [ 2.,  2.]])"
            ]
          },
          "metadata": {},
          "execution_count": 19
        }
      ]
    },
    {
      "cell_type": "markdown",
      "metadata": {
        "id": "36KGeXUt0hT_"
      },
      "source": [
        "### Computing gradients for the same case that was present in `Chain_rule.ipynb` notebook in previous chapter 案例:将前面的链式法则用张量实现一次"
      ]
    },
    {
      "cell_type": "code",
      "metadata": {
        "ExecuteTime": {
          "end_time": "2020-09-25T19:09:58.963790Z",
          "start_time": "2020-09-25T19:09:58.960947Z"
        },
        "id": "9MYfARsd0hT_",
        "outputId": "6dd2f2c7-7beb-4934-b839-91cea9a7101a",
        "colab": {
          "base_uri": "https://localhost:8080/"
        }
      },
      "source": [
        "x = np.array([[1,1]])\n",
        "y = np.array([[0]])\n",
        "x, y = [torch.tensor(i).float() for i in [x,y]] #将numpy数组转换为张量\n",
        "print( x, y )"
      ],
      "execution_count": 22,
      "outputs": [
        {
          "output_type": "stream",
          "name": "stdout",
          "text": [
            "tensor([[1., 1.]]) tensor([[0.]])\n"
          ]
        }
      ]
    },
    {
      "cell_type": "code",
      "metadata": {
        "ExecuteTime": {
          "end_time": "2020-09-25T19:11:27.928978Z",
          "start_time": "2020-09-25T19:11:27.925311Z"
        },
        "id": "qTPQsSk2cjaG",
        "outputId": "60244128-deed-48b6-b90c-cc1d8143d2d6",
        "colab": {
          "base_uri": "https://localhost:8080/"
        }
      },
      "source": [
        "W = [\n",
        "    np.array([[-0.0053, 0.3793],\n",
        "              [-0.5820, -0.5204],\n",
        "              [-0.2723, 0.1896]], dtype=np.float32).T,\n",
        "    np.array([-0.0140, 0.5607, -0.0628], dtype=np.float32),\n",
        "    np.array([[ 0.1528, -0.1745, -0.1135]], dtype=np.float32).T,\n",
        "    np.array([-0.5516], dtype=np.float32)\n",
        "]\n",
        "\n",
        "W = [torch.tensor(i, requires_grad=True) for i in W] #将输入的权重转换为张量\n",
        "print( W )"
      ],
      "execution_count": 25,
      "outputs": [
        {
          "output_type": "stream",
          "name": "stdout",
          "text": [
            "[tensor([[-0.0053, -0.5820, -0.2723],\n",
            "        [ 0.3793, -0.5204,  0.1896]], requires_grad=True), tensor([-0.0140,  0.5607, -0.0628], requires_grad=True), tensor([[ 0.1528],\n",
            "        [-0.1745],\n",
            "        [-0.1135]], requires_grad=True), tensor([-0.5516], requires_grad=True)]\n"
          ]
        }
      ]
    },
    {
      "cell_type": "code",
      "metadata": {
        "ExecuteTime": {
          "end_time": "2020-09-25T19:11:36.364882Z",
          "start_time": "2020-09-25T19:11:36.361713Z"
        },
        "id": "DquL9NRf0hUE"
      },
      "source": [
        "# 前向传播 用张量实现\n",
        "def feed_forward(inputs, outputs, weights):\n",
        "    pre_hidden = torch.matmul( inputs,  weights[0])+ weights[1]\n",
        "    hidden = 1/(1+torch.exp(-pre_hidden))\n",
        "    out = torch.matmul(hidden, weights[2]) + weights[3]\n",
        "    mean_squared_error = torch.mean(torch.square(out - outputs))\n",
        "    return mean_squared_error"
      ],
      "execution_count": 27,
      "outputs": []
    },
    {
      "cell_type": "code",
      "metadata": {
        "ExecuteTime": {
          "end_time": "2020-09-25T19:11:36.653945Z",
          "start_time": "2020-09-25T19:11:36.640255Z"
        },
        "id": "bcyJ2zPd0hUH",
        "outputId": "fcdfd4e7-ea3a-4929-aa63-5f50fc3f3350",
        "colab": {
          "base_uri": "https://localhost:8080/"
        }
      },
      "source": [
        "loss = feed_forward(x, y, W)\n",
        "loss"
      ],
      "execution_count": 28,
      "outputs": [
        {
          "output_type": "execute_result",
          "data": {
            "text/plain": [
              "tensor(0.3346, grad_fn=<MeanBackward0>)"
            ]
          },
          "metadata": {},
          "execution_count": 28
        }
      ]
    },
    {
      "cell_type": "markdown",
      "source": [
        "Loss对这个参数的偏导数 $\\frac{\\partial \\text{Loss}}{\\partial w}$\n",
        "\n",
        "梯度与偏导数的异同点:\n",
        "\n",
        "![1.png](data:image/png;base64,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)"
      ],
      "metadata": {
        "id": "S8lAk2zxvsiG"
      }
    },
    {
      "cell_type": "code",
      "metadata": {
        "ExecuteTime": {
          "end_time": "2020-09-25T19:11:37.478074Z",
          "start_time": "2020-09-25T19:11:37.475342Z"
        },
        "id": "8yPnRjgz0hUJ"
      },
      "source": [
        "loss.backward()"
      ],
      "execution_count": 29,
      "outputs": []
    },
    {
      "cell_type": "code",
      "metadata": {
        "ExecuteTime": {
          "end_time": "2020-09-25T19:11:48.459841Z",
          "start_time": "2020-09-25T19:11:48.455483Z"
        },
        "id": "aRvZOyAR0hUL",
        "outputId": "d448b856-b7cb-4c84-9adf-fd157353126c",
        "colab": {
          "base_uri": "https://localhost:8080/"
        }
      },
      "source": [
        "print([ w.grad for w in W])  # 每个参数关于loss的梯度, 数值越大，说明这个参数 在当前状态下 对 Loss 的影响越大\n",
        "# 正的梯度：增大这个参数会让 Loss 增大\n",
        "# 负的梯度：增大这个参数会让 Loss 减小"
      ],
      "execution_count": 34,
      "outputs": [
        {
          "output_type": "stream",
          "name": "stdout",
          "text": [
            "[tensor([[-0.0428,  0.0469,  0.0327],\n",
            "        [-0.0428,  0.0469,  0.0327]]), tensor([-0.0428,  0.0469,  0.0327]), tensor([[-0.6814],\n",
            "        [-0.4255],\n",
            "        [-0.5364]]), tensor([-1.1568])]\n"
          ]
        }
      ]
    },
    {
      "cell_type": "code",
      "metadata": {
        "ExecuteTime": {
          "end_time": "2020-09-25T19:12:18.423376Z",
          "start_time": "2020-09-25T19:12:18.418873Z"
        },
        "id": "ppTkD6JQ0hUN",
        "outputId": "446785b0-3af5-4975-989d-86055d265119",
        "colab": {
          "base_uri": "https://localhost:8080/"
        }
      },
      "source": [
        "updated_W = [w-w.grad for w in W] #更新权重 : 注意: 1. 正的梯度：增大这个参数会让 Loss 增大 2. 负的梯度：增大这个参数会让 Loss 减小\n",
        "updated_W"
      ],
      "execution_count": 37,
      "outputs": [
        {
          "output_type": "execute_result",
          "data": {
            "text/plain": [
              "[tensor([[ 0.0375, -0.6289, -0.3050],\n",
              "         [ 0.4221, -0.5673,  0.1569]], grad_fn=<SubBackward0>),\n",
              " tensor([ 0.0288,  0.5138, -0.0955], grad_fn=<SubBackward0>),\n",
              " tensor([[0.8342],\n",
              "         [0.2510],\n",
              "         [0.4229]], grad_fn=<SubBackward0>),\n",
              " tensor([0.6052], grad_fn=<SubBackward0>)]"
            ]
          },
          "metadata": {},
          "execution_count": 37
        }
      ]
    },
    {
      "cell_type": "code",
      "metadata": {
        "id": "63LC7Fj_0hUP"
      },
      "source": [],
      "execution_count": null,
      "outputs": []
    }
  ]
}