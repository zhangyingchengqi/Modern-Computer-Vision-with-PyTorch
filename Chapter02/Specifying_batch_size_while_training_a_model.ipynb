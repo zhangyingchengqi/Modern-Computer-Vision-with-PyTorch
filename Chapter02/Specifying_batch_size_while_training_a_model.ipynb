{
  "nbformat": 4,
  "nbformat_minor": 0,
  "metadata": {
    "colab": {
      "name": "Specifying_batch_size_while_training_a_model.ipynb",
      "provenance": [],
      "gpuType": "T4",
      "include_colab_link": true
    },
    "kernelspec": {
      "display_name": "Python 3",
      "name": "python3"
    },
    "language_info": {
      "codemirror_mode": {
        "name": "ipython",
        "version": 3
      },
      "file_extension": ".py",
      "mimetype": "text/x-python",
      "name": "python",
      "nbconvert_exporter": "python",
      "pygments_lexer": "ipython3",
      "version": "3.7.6"
    },
    "accelerator": "GPU"
  },
  "cells": [
    {
      "cell_type": "markdown",
      "metadata": {
        "id": "view-in-github",
        "colab_type": "text"
      },
      "source": [
        "<a href=\"https://colab.research.google.com/github/zhangyingchengqi/Modern-Computer-Vision-with-PyTorch/blob/master/Chapter02/Specifying_batch_size_while_training_a_model.ipynb\" target=\"_parent\"><img src=\"https://colab.research.google.com/assets/colab-badge.svg\" alt=\"Open In Colab\"/></a>"
      ]
    },
    {
      "cell_type": "markdown",
      "source": [
        "# 第二章 第六节 batch size的调整测试\n",
        "\n",
        "1. 什么是batch size?\n",
        "\n",
        "在深度学习训练时，我们通常不会一次性把所有训练数据送进神经网络，而是**按批次（batch）**分成小块依次输入模型。\n",
        "\n",
        "  * Batch Size = 每个批次里样本的数量\n",
        "\n",
        "2. 为什么要用批量（Batch）？\n",
        "  * 显存限制: 一次性输入太多数据会爆显存\n",
        "  * 加速训练: 多个样本并行计算比逐个计算快\n",
        "  * 梯度稳定性: Batch 的平均梯度比单样本梯度更稳定，训练更平滑\n",
        "3. Batch Size 的取值?\n",
        "  2 的幂次方（例如 16, 32, 64, 128, 256）: 因为 GPU 计算在 2 的幂时更高效\n",
        "  * 太小（如 1~4） → 梯度波动大，训练慢\n",
        "  * 太大（如 1024~8192） → 需要大量显存，可能欠拟合"
      ],
      "metadata": {
        "id": "KEXoaYAecyQu"
      }
    },
    {
      "cell_type": "code",
      "metadata": {
        "ExecuteTime": {
          "end_time": "2020-09-25T19:38:09.313991Z",
          "start_time": "2020-09-25T19:38:09.019280Z"
        },
        "id": "qMRMqX5bxknN"
      },
      "source": [
        "from torch.utils.data import Dataset, DataLoader\n",
        "import torch\n",
        "import torch.nn as nn"
      ],
      "execution_count": 2,
      "outputs": []
    },
    {
      "cell_type": "code",
      "metadata": {
        "ExecuteTime": {
          "end_time": "2020-09-25T19:38:09.317494Z",
          "start_time": "2020-09-25T19:38:09.315108Z"
        },
        "id": "pwlhqEFtxldo"
      },
      "source": [
        "x = [[1,2],[3,4],[5,6],[7,8]]\n",
        "y = [[3],[7],[11],[15]]"
      ],
      "execution_count": 3,
      "outputs": []
    },
    {
      "cell_type": "code",
      "metadata": {
        "ExecuteTime": {
          "end_time": "2020-09-25T19:38:09.322276Z",
          "start_time": "2020-09-25T19:38:09.319108Z"
        },
        "id": "Xvn8m82PxqGL"
      },
      "source": [
        "X = torch.tensor(x).float()\n",
        "Y = torch.tensor(y).float()"
      ],
      "execution_count": 4,
      "outputs": []
    },
    {
      "cell_type": "code",
      "metadata": {
        "ExecuteTime": {
          "end_time": "2020-09-25T19:38:10.908620Z",
          "start_time": "2020-09-25T19:38:09.324375Z"
        },
        "id": "suZ9rXQqxrUi"
      },
      "source": [
        "device = 'cuda' if torch.cuda.is_available() else 'cpu'\n",
        "X = X.to(device)\n",
        "Y = Y.to(device)"
      ],
      "execution_count": 5,
      "outputs": []
    },
    {
      "cell_type": "code",
      "metadata": {
        "ExecuteTime": {
          "end_time": "2020-09-25T19:38:10.913405Z",
          "start_time": "2020-09-25T19:38:10.909638Z"
        },
        "id": "GZwy83Zaxsrw",
        "outputId": "646e53e6-8c06-4021-b03e-60d894e418f0",
        "colab": {
          "base_uri": "https://localhost:8080/"
        }
      },
      "source": [
        "class MyDataset(Dataset):\n",
        "    def __init__(self,x,y):\n",
        "        self.x = torch.tensor(x).float()\n",
        "        self.y = torch.tensor(y).float()\n",
        "    def __len__(self):\n",
        "        return len(self.x)\n",
        "    def __getitem__(self, ix):\n",
        "        return self.x[ix], self.y[ix]\n",
        "ds = MyDataset(X, Y)"
      ],
      "execution_count": 7,
      "outputs": [
        {
          "output_type": "stream",
          "name": "stderr",
          "text": [
            "/tmp/ipython-input-1110550737.py:3: UserWarning: To copy construct from a tensor, it is recommended to use sourceTensor.clone().detach() or sourceTensor.clone().detach().requires_grad_(True), rather than torch.tensor(sourceTensor).\n",
            "  self.x = torch.tensor(x).float()\n",
            "/tmp/ipython-input-1110550737.py:4: UserWarning: To copy construct from a tensor, it is recommended to use sourceTensor.clone().detach() or sourceTensor.clone().detach().requires_grad_(True), rather than torch.tensor(sourceTensor).\n",
            "  self.y = torch.tensor(y).float()\n"
          ]
        }
      ]
    },
    {
      "cell_type": "code",
      "metadata": {
        "ExecuteTime": {
          "end_time": "2020-09-25T19:38:10.917418Z",
          "start_time": "2020-09-25T19:38:10.915031Z"
        },
        "id": "K28I9mj-x1yB"
      },
      "source": [
        "dl = DataLoader(ds, batch_size=2, shuffle=True) #创建一个 数据加载器（DataLoader） 的，它的作用是帮你**按批次（batch）和顺序（是否打乱）**把数据集 ds 喂给模型"
      ],
      "execution_count": 9,
      "outputs": []
    },
    {
      "cell_type": "code",
      "source": [
        "# 临时性测试一下上面的dl\n",
        "for xb, yb in dl:\n",
        "    print(xb, yb)  # xb 是批次的输入数据，yb 是批次的标签\n",
        "# 把数据集 ds 按批次大小 2 切分，每个 epoch 前随机打乱顺序，然后让你可以一个 batch 一个 batch 地取出来训练"
      ],
      "metadata": {
        "id": "tid0aqklfvF9",
        "outputId": "1284de7a-03a1-421f-a47e-7c6ffcdd1469",
        "colab": {
          "base_uri": "https://localhost:8080/"
        }
      },
      "execution_count": 15,
      "outputs": [
        {
          "output_type": "stream",
          "name": "stdout",
          "text": [
            "tensor([[1., 2.],\n",
            "        [7., 8.]], device='cuda:0') tensor([[ 3.],\n",
            "        [15.]], device='cuda:0')\n",
            "tensor([[5., 6.],\n",
            "        [3., 4.]], device='cuda:0') tensor([[11.],\n",
            "        [ 7.]], device='cuda:0')\n"
          ]
        }
      ]
    },
    {
      "cell_type": "code",
      "metadata": {
        "ExecuteTime": {
          "end_time": "2020-09-25T19:38:10.922176Z",
          "start_time": "2020-09-25T19:38:10.918671Z"
        },
        "id": "i1uNDQLDx3bb"
      },
      "source": [
        "class MyNeuralNet(nn.Module):\n",
        "    def __init__(self):\n",
        "        super().__init__()\n",
        "        self.input_to_hidden_layer = nn.Linear(2,8)\n",
        "        self.hidden_layer_activation = nn.ReLU()\n",
        "        self.hidden_to_output_layer = nn.Linear(8,1)\n",
        "    def forward(self, x):\n",
        "        x = self.input_to_hidden_layer(x)\n",
        "        x = self.hidden_layer_activation(x)\n",
        "        x = self.hidden_to_output_layer(x)\n",
        "        return x"
      ],
      "execution_count": 16,
      "outputs": []
    },
    {
      "cell_type": "code",
      "metadata": {
        "ExecuteTime": {
          "end_time": "2020-09-25T19:38:10.928421Z",
          "start_time": "2020-09-25T19:38:10.924741Z"
        },
        "id": "M5GAnaPmx5w5"
      },
      "source": [
        "mynet = MyNeuralNet().to(device)\n",
        "loss_func = nn.MSELoss()\n",
        "from torch.optim import SGD\n",
        "opt = SGD(mynet.parameters(), lr = 0.001)"
      ],
      "execution_count": 18,
      "outputs": []
    },
    {
      "cell_type": "code",
      "metadata": {
        "ExecuteTime": {
          "end_time": "2020-09-25T19:38:11.011394Z",
          "start_time": "2020-09-25T19:38:10.929771Z"
        },
        "id": "_da8xi-9x7oJ",
        "outputId": "7a59135d-f162-4178-f05e-2e5492893216",
        "colab": {
          "base_uri": "https://localhost:8080/",
          "height": 34
        }
      },
      "source": [
        "import time\n",
        "loss_history = []\n",
        "start = time.time()\n",
        "for _ in range(50):\n",
        "    for data in dl:\n",
        "        x, y = data\n",
        "        opt.zero_grad()\n",
        "        loss_value = loss_func(mynet(x),y)\n",
        "        loss_value.backward()\n",
        "        opt.step()\n",
        "        loss_history.append(loss_value)\n",
        "end = time.time()\n",
        "print(end - start)"
      ],
      "execution_count": null,
      "outputs": [
        {
          "output_type": "stream",
          "text": [
            "0.07826399803161621\n"
          ],
          "name": "stdout"
        }
      ]
    },
    {
      "cell_type": "code",
      "metadata": {
        "ExecuteTime": {
          "end_time": "2020-09-25T19:38:11.014114Z",
          "start_time": "2020-09-25T19:38:11.012332Z"
        },
        "id": "ou1Hdxb4x9TP"
      },
      "source": [
        "val_x = [[10,11]]"
      ],
      "execution_count": null,
      "outputs": []
    },
    {
      "cell_type": "code",
      "metadata": {
        "ExecuteTime": {
          "end_time": "2020-09-25T19:38:11.017321Z",
          "start_time": "2020-09-25T19:38:11.015262Z"
        },
        "id": "OtA5Oswrx_Sl"
      },
      "source": [
        "val_x = torch.tensor(val_x).float().to(device)"
      ],
      "execution_count": null,
      "outputs": []
    },
    {
      "cell_type": "code",
      "metadata": {
        "ExecuteTime": {
          "end_time": "2020-09-25T19:38:11.025594Z",
          "start_time": "2020-09-25T19:38:11.018406Z"
        },
        "id": "UysdiiFSyAf1",
        "outputId": "f11228a4-0aaa-4851-eee2-a855a93acd91",
        "colab": {
          "base_uri": "https://localhost:8080/",
          "height": 34
        }
      },
      "source": [
        "mynet(val_x)"
      ],
      "execution_count": null,
      "outputs": [
        {
          "output_type": "execute_result",
          "data": {
            "text/plain": [
              "tensor([[20.7331]], device='cuda:0', grad_fn=<AddmmBackward>)"
            ]
          },
          "metadata": {
            "tags": []
          },
          "execution_count": 12
        }
      ]
    },
    {
      "cell_type": "code",
      "metadata": {
        "id": "rHYynD1wyByW"
      },
      "source": [],
      "execution_count": null,
      "outputs": []
    }
  ]
}