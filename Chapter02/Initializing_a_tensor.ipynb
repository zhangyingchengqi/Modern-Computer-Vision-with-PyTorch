{
  "nbformat": 4,
  "nbformat_minor": 0,
  "metadata": {
    "colab": {
      "name": "Initializing_a_tensor.ipynb",
      "provenance": [],
      "gpuType": "T4",
      "include_colab_link": true
    },
    "kernelspec": {
      "display_name": "Python 3",
      "name": "python3"
    },
    "language_info": {
      "codemirror_mode": {
        "name": "ipython",
        "version": 3
      },
      "file_extension": ".py",
      "mimetype": "text/x-python",
      "name": "python",
      "nbconvert_exporter": "python",
      "pygments_lexer": "ipython3",
      "version": "3.7.6"
    },
    "accelerator": "GPU"
  },
  "cells": [
    {
      "cell_type": "markdown",
      "metadata": {
        "id": "view-in-github",
        "colab_type": "text"
      },
      "source": [
        "<a href=\"https://colab.research.google.com/github/zhangyingchengqi/Modern-Computer-Vision-with-PyTorch/blob/master/Chapter02/Initializing_a_tensor.ipynb\" target=\"_parent\"><img src=\"https://colab.research.google.com/assets/colab-badge.svg\" alt=\"Open In Colab\"/></a>"
      ]
    },
    {
      "cell_type": "markdown",
      "source": [
        "# 练习一: pytorch安装,cuda启用，及张量创建"
      ],
      "metadata": {
        "id": "LT6KQkbvmBup"
      }
    },
    {
      "cell_type": "code",
      "source": [
        "#验证pytorch是否安装成功:  python和pytorch在colab中默认安装好了\n",
        "import torch\n",
        "print(torch.__version__)\n",
        "# 查看pytorch中的详情, True 表示成功启用 GPU\n",
        "print(torch.cuda.is_available())\n",
        "# 确定你的 CUDA 版本\n",
        "!nvcc --version\n",
        ""
      ],
      "metadata": {
        "id": "DdGQ3Easl-Ai",
        "outputId": "3957375f-6ebb-4e49-a456-66f66c727433",
        "colab": {
          "base_uri": "https://localhost:8080/"
        }
      },
      "execution_count": 1,
      "outputs": [
        {
          "output_type": "stream",
          "name": "stdout",
          "text": [
            "2.6.0+cu124\n",
            "True\n",
            "nvcc: NVIDIA (R) Cuda compiler driver\n",
            "Copyright (c) 2005-2024 NVIDIA Corporation\n",
            "Built on Thu_Jun__6_02:18:23_PDT_2024\n",
            "Cuda compilation tools, release 12.5, V12.5.82\n",
            "Build cuda_12.5.r12.5/compiler.34385749_0\n"
          ]
        }
      ]
    },
    {
      "cell_type": "code",
      "source": [
        "!python -c \"import torch; print(torch.__version__); print(torch.version.cuda); print(torch.cuda.is_available())\"\n",
        "!nvidia-smi\n"
      ],
      "metadata": {
        "id": "nalOpfNhoMeK",
        "outputId": "b9c299e7-e6d7-4f24-88b0-5c762c03db08",
        "colab": {
          "base_uri": "https://localhost:8080/"
        }
      },
      "execution_count": 2,
      "outputs": [
        {
          "output_type": "stream",
          "name": "stdout",
          "text": [
            "2.6.0+cu124\n",
            "12.4\n",
            "True\n",
            "Thu Aug  7 03:48:02 2025       \n",
            "+-----------------------------------------------------------------------------------------+\n",
            "| NVIDIA-SMI 550.54.15              Driver Version: 550.54.15      CUDA Version: 12.4     |\n",
            "|-----------------------------------------+------------------------+----------------------+\n",
            "| GPU  Name                 Persistence-M | Bus-Id          Disp.A | Volatile Uncorr. ECC |\n",
            "| Fan  Temp   Perf          Pwr:Usage/Cap |           Memory-Usage | GPU-Util  Compute M. |\n",
            "|                                         |                        |               MIG M. |\n",
            "|=========================================+========================+======================|\n",
            "|   0  Tesla T4                       Off |   00000000:00:04.0 Off |                    0 |\n",
            "| N/A   66C    P8             11W /   70W |       2MiB /  15360MiB |      0%      Default |\n",
            "|                                         |                        |                  N/A |\n",
            "+-----------------------------------------+------------------------+----------------------+\n",
            "                                                                                         \n",
            "+-----------------------------------------------------------------------------------------+\n",
            "| Processes:                                                                              |\n",
            "|  GPU   GI   CI        PID   Type   Process name                              GPU Memory |\n",
            "|        ID   ID                                                               Usage      |\n",
            "|=========================================================================================|\n",
            "|  No running processes found                                                             |\n",
            "+-----------------------------------------------------------------------------------------+\n"
          ]
        }
      ]
    },
    {
      "cell_type": "code",
      "metadata": {
        "ExecuteTime": {
          "end_time": "2020-09-25T19:01:20.140985Z",
          "start_time": "2020-09-25T19:01:19.854244Z"
        },
        "id": "ihh6_GZ3ZIY-"
      },
      "source": [
        "import torch\n",
        "x = torch.tensor([[1,2]])\n",
        "y = torch.tensor([[1],[2]])"
      ],
      "execution_count": 3,
      "outputs": []
    },
    {
      "cell_type": "code",
      "metadata": {
        "ExecuteTime": {
          "end_time": "2020-09-25T19:01:20.144749Z",
          "start_time": "2020-09-25T19:01:20.142079Z"
        },
        "id": "Q3M5XCH9ZJ2c",
        "outputId": "b4109048-89f0-4525-ea7b-8beea60b97f1",
        "colab": {
          "base_uri": "https://localhost:8080/"
        }
      },
      "source": [
        "print(x.shape)\n",
        "# torch.Size([1,2]) # one entity of two items\n",
        "print(y.shape)\n",
        "# torch.Size([2,1]) # two entities of one item each\n",
        "print(x.dtype)\n",
        "# torch.int64"
      ],
      "execution_count": 4,
      "outputs": [
        {
          "output_type": "stream",
          "name": "stdout",
          "text": [
            "torch.Size([1, 2])\n",
            "torch.Size([2, 1])\n",
            "torch.int64\n"
          ]
        }
      ]
    },
    {
      "cell_type": "code",
      "metadata": {
        "ExecuteTime": {
          "end_time": "2020-09-25T19:01:20.149178Z",
          "start_time": "2020-09-25T19:01:20.146083Z"
        },
        "id": "BTEN4-yhZL4j",
        "outputId": "2002dc78-0275-4e98-9b1e-7425b305c202",
        "colab": {
          "base_uri": "https://localhost:8080/"
        }
      },
      "source": [
        "#类型强制转为最为通用的类型\n",
        "x = torch.tensor([False, 1, 2.0])\n",
        "print(x)\n",
        "# tensor([0., 1., 2.])"
      ],
      "execution_count": 5,
      "outputs": [
        {
          "output_type": "stream",
          "name": "stdout",
          "text": [
            "tensor([0., 1., 2.])\n"
          ]
        }
      ]
    },
    {
      "cell_type": "code",
      "metadata": {
        "ExecuteTime": {
          "end_time": "2020-09-25T19:01:20.156974Z",
          "start_time": "2020-09-25T19:01:20.150527Z"
        },
        "id": "csI_Z5TzZO3B",
        "outputId": "5c45a648-ef54-414a-8f7d-4579034bcd62",
        "colab": {
          "base_uri": "https://localhost:8080/"
        }
      },
      "source": [
        "torch.zeros((3, 4))"
      ],
      "execution_count": 6,
      "outputs": [
        {
          "output_type": "execute_result",
          "data": {
            "text/plain": [
              "tensor([[0., 0., 0., 0.],\n",
              "        [0., 0., 0., 0.],\n",
              "        [0., 0., 0., 0.]])"
            ]
          },
          "metadata": {},
          "execution_count": 6
        }
      ]
    },
    {
      "cell_type": "code",
      "metadata": {
        "ExecuteTime": {
          "end_time": "2020-09-25T19:01:20.161041Z",
          "start_time": "2020-09-25T19:01:20.157954Z"
        },
        "id": "nocW50iiZUHD",
        "outputId": "f1646b4e-f5de-473c-ca2f-b0c42c353056",
        "colab": {
          "base_uri": "https://localhost:8080/"
        }
      },
      "source": [
        "torch.ones((3, 4))"
      ],
      "execution_count": 7,
      "outputs": [
        {
          "output_type": "execute_result",
          "data": {
            "text/plain": [
              "tensor([[1., 1., 1., 1.],\n",
              "        [1., 1., 1., 1.],\n",
              "        [1., 1., 1., 1.]])"
            ]
          },
          "metadata": {},
          "execution_count": 7
        }
      ]
    },
    {
      "cell_type": "code",
      "metadata": {
        "ExecuteTime": {
          "end_time": "2020-09-25T19:01:20.165239Z",
          "start_time": "2020-09-25T19:01:20.162169Z"
        },
        "id": "owSLyu6CZVke",
        "outputId": "5b89651f-ba58-4e12-d80e-0c8d3e01482b",
        "colab": {
          "base_uri": "https://localhost:8080/"
        }
      },
      "source": [
        "torch.randint(low=0, high=10, size=(3,4))"
      ],
      "execution_count": 9,
      "outputs": [
        {
          "output_type": "execute_result",
          "data": {
            "text/plain": [
              "tensor([[5, 5, 1, 1],\n",
              "        [4, 1, 1, 6],\n",
              "        [9, 3, 8, 4]])"
            ]
          },
          "metadata": {},
          "execution_count": 9
        }
      ]
    },
    {
      "cell_type": "code",
      "metadata": {
        "ExecuteTime": {
          "end_time": "2020-09-25T19:01:20.169014Z",
          "start_time": "2020-09-25T19:01:20.166159Z"
        },
        "id": "3wz1iubjZXLn",
        "outputId": "c808d9ea-aa21-402c-e6e9-9b9b59aa031f",
        "colab": {
          "base_uri": "https://localhost:8080/"
        }
      },
      "source": [
        "torch.rand(3, 4) #0-1间的随机数的3行4列"
      ],
      "execution_count": 10,
      "outputs": [
        {
          "output_type": "execute_result",
          "data": {
            "text/plain": [
              "tensor([[0.6495, 0.3721, 0.0255, 0.0044],\n",
              "        [0.9924, 0.6303, 0.1253, 0.5954],\n",
              "        [0.6854, 0.7857, 0.0093, 0.9195]])"
            ]
          },
          "metadata": {},
          "execution_count": 10
        }
      ]
    },
    {
      "cell_type": "code",
      "metadata": {
        "ExecuteTime": {
          "end_time": "2020-09-25T19:01:20.174384Z",
          "start_time": "2020-09-25T19:01:20.170128Z"
        },
        "id": "_-_lniB8ZwuX",
        "outputId": "41328b8e-a12e-48a8-d112-f6cfbb6a6410",
        "colab": {
          "base_uri": "https://localhost:8080/"
        }
      },
      "source": [
        "torch.randn((3,4)) #符合正态分布的三行四列"
      ],
      "execution_count": 11,
      "outputs": [
        {
          "output_type": "execute_result",
          "data": {
            "text/plain": [
              "tensor([[-0.1913, -0.2662, -0.0960,  0.3557],\n",
              "        [ 0.7416,  1.4846, -1.9334,  1.2545],\n",
              "        [ 1.5333, -0.5123, -1.1460, -0.0586]])"
            ]
          },
          "metadata": {},
          "execution_count": 11
        }
      ]
    },
    {
      "cell_type": "code",
      "metadata": {
        "ExecuteTime": {
          "end_time": "2020-09-25T19:22:06.835458Z",
          "start_time": "2020-09-25T19:22:06.829580Z"
        },
        "id": "xCwiFIwk2Bu2",
        "outputId": "46c648de-ed5d-4a05-f11d-c0f2d1458c0f",
        "colab": {
          "base_uri": "https://localhost:8080/"
        }
      },
      "source": [
        "import numpy as np\n",
        "x = np.array([[10,20,30],[2,3,4]])\n",
        "y = torch.tensor(x)    # 直接将numpy数组转为张量\n",
        "print(type(x), type(y))"
      ],
      "execution_count": 12,
      "outputs": [
        {
          "output_type": "stream",
          "name": "stdout",
          "text": [
            "<class 'numpy.ndarray'> <class 'torch.Tensor'>\n"
          ]
        }
      ]
    },
    {
      "cell_type": "code",
      "metadata": {
        "id": "h1EJkME52Bu4",
        "outputId": "b1e38a83-8aa2-4826-8da3-2782b4184883",
        "colab": {
          "base_uri": "https://localhost:8080/"
        }
      },
      "source": [
        "# 设置设备\n",
        "device = torch.device(\"cuda\" if torch.cuda.is_available() else \"cpu\")\n",
        "# 创建两个张量并转移到 GPU\n",
        "a = torch.rand(3, 3).to(device)\n",
        "b = torch.rand(3, 3).to(device)\n",
        "a,b"
      ],
      "execution_count": 13,
      "outputs": [
        {
          "output_type": "execute_result",
          "data": {
            "text/plain": [
              "(tensor([[0.8188, 0.0276, 0.6029],\n",
              "         [0.7789, 0.3665, 0.3946],\n",
              "         [0.5333, 0.3892, 0.0802]], device='cuda:0'),\n",
              " tensor([[0.9328, 0.9222, 0.5353],\n",
              "         [0.0819, 0.4807, 0.2771],\n",
              "         [0.6522, 0.1559, 0.8032]], device='cuda:0'))"
            ]
          },
          "metadata": {},
          "execution_count": 13
        }
      ]
    }
  ]
}