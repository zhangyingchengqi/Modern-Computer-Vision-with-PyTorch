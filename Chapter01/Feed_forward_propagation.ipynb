{
  "nbformat": 4,
  "nbformat_minor": 0,
  "metadata": {
    "colab": {
      "name": "Feed_forward_propagation.ipynb",
      "provenance": [],
      "include_colab_link": true
    },
    "kernelspec": {
      "display_name": "Python 3",
      "language": "python",
      "name": "python3"
    },
    "language_info": {
      "codemirror_mode": {
        "name": "ipython",
        "version": 3
      },
      "file_extension": ".py",
      "mimetype": "text/x-python",
      "name": "python",
      "nbconvert_exporter": "python",
      "pygments_lexer": "ipython3",
      "version": "3.7.6"
    }
  },
  "cells": [
    {
      "cell_type": "markdown",
      "metadata": {
        "id": "view-in-github",
        "colab_type": "text"
      },
      "source": [
        "<a href=\"https://colab.research.google.com/github/zhangyingchengqi/Modern-Computer-Vision-with-PyTorch/blob/master/Chapter01/Feed_forward_propagation.ipynb\" target=\"_parent\"><img src=\"https://colab.research.google.com/assets/colab-badge.svg\" alt=\"Open In Colab\"/></a>"
      ]
    },
    {
      "cell_type": "markdown",
      "metadata": {
        "id": "Uk4Fezbb9SZc"
      },
      "source": [
        "### Forward Propagation 前向传播测试"
      ]
    },
    {
      "cell_type": "code",
      "metadata": {
        "ExecuteTime": {
          "end_time": "2020-09-24T12:46:03.594770Z",
          "start_time": "2020-09-24T12:46:03.589643Z"
        },
        "id": "VytiqjTQgwf4"
      },
      "source": [
        "import numpy as np\n",
        "def feed_forward(inputs, outputs, weights):\n",
        "    pre_hidden = np.dot(inputs,weights[0])+ weights[1]\n",
        "    hidden = 1/(1+np.exp(-pre_hidden))\n",
        "    pred_out = np.dot(hidden, weights[2]) + weights[3]\n",
        "    mean_squared_error = np.mean(np.square(pred_out - outputs))\n",
        "    return mean_squared_error"
      ],
      "execution_count": 2,
      "outputs": []
    },
    {
      "cell_type": "code",
      "source": [
        "import numpy as np\n",
        "# 输入inputs在网络中向前传播时，得到均方误差\n",
        "def feed_forward(inputs,outputs, weights):\n",
        "  pre_hidden=np.dot( inputs,weights[0])+weights[1]   # 隐藏层激活前的值   weights[1] 为偏置项\n",
        "  hidden=1/(1+np.exp( -pre_hidden) )  #  应用了 sigmoid 激活函数,  其它激活函数还有RELU, ,TahH, Linear函数\n",
        "  pred_out=np.dot( hidden, weights[2]) +weights[3]   #输出层的值      weights[3]为偏置项\n",
        "  mean_squared_error=np.mean( np.square(pred_out-outputs )  )  #连续值 ： 均方误差计算\n",
        "  return mean_squared_error   #返回损失\n",
        "\n"
      ],
      "metadata": {
        "id": "QVwkFXgpEHpX"
      },
      "execution_count": null,
      "outputs": []
    }
  ]
}